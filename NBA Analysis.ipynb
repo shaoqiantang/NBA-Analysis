{
  "cells": [
    {
      "metadata": {
        "_cell_guid": "163652ce-9679-41c6-8d01-e14054e91fbb",
        "_uuid": "6eb22b404e2d5ce679967802895e13d36d1b5043",
        "trusted": false,
        "collapsed": true
      },
      "cell_type": "code",
      "source": "# This Python 3 environment comes with many helpful analytics libraries installed\n# It is defined by the kaggle/python docker image: https://github.com/kaggle/docker-python\n# For example, here's several helpful packages to load in \n\nimport numpy as np # linear algebra\nimport pandas as pd # data processing, CSV file I/O (e.g. pd.read_csv)\n\n# Input data files are available in the \"../input/\" directory.\n# For example, running this (by clicking run or pressing Shift+Enter) will list the files in the input directory\n\nfrom subprocess import check_output\nprint(check_output([\"ls\", \"../input\"]).decode(\"utf8\"))\n\n# Any results you write to the current directory are saved as output.",
      "execution_count": null,
      "outputs": []
    },
    {
      "metadata": {
        "_cell_guid": "61c52d11-5e1c-4cfe-8310-51a84c740eef",
        "_uuid": "8804cb4df36c5addc22d8190def134043d62e380",
        "trusted": false,
        "collapsed": true
      },
      "cell_type": "code",
      "source": "import pandas as pd\nimport matplotlib.pyplot as plt\nimport seaborn as sns\ncolor = sns.color_palette()\nimport statsmodels.api as sm\nfrom sklearn.metrics import mean_squared_error\nfrom sklearn.linear_model import LinearRegression\nfrom sklearn.preprocessing import minmax_scale\nfrom IPython.core.display import display, HTML\ndisplay(HTML(\"<style>.container { width:100% !important; }</style>\"))\nimport warnings\nwarnings.filterwarnings('ignore')\n%matplotlib inline",
      "execution_count": null,
      "outputs": []
    },
    {
      "metadata": {
        "_cell_guid": "324fb3c6-e8c0-4067-9793-42ed9c536165",
        "_uuid": "3ad5cb9536a67c61fc16538f3dccf1d4e63a5178"
      },
      "cell_type": "markdown",
      "source": "**Preparing dataset**"
    },
    {
      "metadata": {
        "_cell_guid": "399bedbc-f49b-4c0f-bff4-c4e8a83cef6b",
        "_uuid": "57261bf8e7901b35ae1d0397804fa6f154c4225e",
        "trusted": false,
        "collapsed": true
      },
      "cell_type": "code",
      "source": "attendance_valuation_elo_df = pd.read_csv(\"../input/nba_2017_att_val_elo.csv\")\nattendance_valuation_elo_df.head()",
      "execution_count": null,
      "outputs": []
    },
    {
      "metadata": {
        "_cell_guid": "723f4d80-53ea-4f54-8659-7a8ea830991f",
        "_uuid": "ad77bd5f9be306c3e58522bd523eb10844f08ade",
        "trusted": false,
        "collapsed": true
      },
      "cell_type": "code",
      "source": "salary_df = pd.read_csv(\"../input/nba_2017_salary.csv\")\nsalary_df.rename(columns={'NAME': 'PLAYER'}, inplace=True)\nsalary_df = salary_df.merge(attendance_valuation_elo_df, how = 'left', on = 'TEAM')\nsalary_df = salary_df.drop(['Unnamed: 0',], axis = 1)\nsalary_df.head()",
      "execution_count": null,
      "outputs": []
    },
    {
      "metadata": {
        "_cell_guid": "de7bed74-3bc7-4b30-b9a1-44489a353bc5",
        "_uuid": "c80f0a8a79fbf89457efee77752a913ed08115b4",
        "trusted": false,
        "collapsed": true
      },
      "cell_type": "code",
      "source": "pie_df = pd.read_csv(\"../input/nba_2017_pie.csv\")\npie_df = pie_df[['PLAYER','AGE','GP','W','L']]\npie_df['winning_rate'] = pie_df['W'] / pie_df['GP']\npie_df = pie_df[['PLAYER','AGE','winning_rate']]\npie_df.head()",
      "execution_count": null,
      "outputs": []
    },
    {
      "metadata": {
        "_cell_guid": "81dc4f17-3767-4dd0-8064-6e776dbe27a8",
        "_uuid": "bc8e3f7a7182ebaaa08c2843558fe82fb8683b20",
        "trusted": false,
        "collapsed": true
      },
      "cell_type": "code",
      "source": "nba_2017_br = pd.read_csv(\"../input/nba_2017_br.csv\")\nnba_2017_br = nba_2017_br[['Player','Pos','MP']]\nnba_2017_br = nba_2017_br.rename(columns = {'Player':'PLAYER'})\nnba_2017_br = nba_2017_br.merge(pie_df, how = 'inner', on = 'PLAYER')\nnba_2017_br = nba_2017_br.merge(salary_df, how = 'inner', on = 'PLAYER')\nnba_2017_br.head()",
      "execution_count": null,
      "outputs": []
    },
    {
      "metadata": {
        "_cell_guid": "8eca3781-3abb-4ad0-b2c0-106e2ca06aca",
        "_uuid": "9473d53f09067807ff179e7b6a8c095df4b3d3e1",
        "scrolled": true,
        "trusted": false,
        "collapsed": true
      },
      "cell_type": "code",
      "source": "nba_2017_twitter_players = pd.read_csv(\"../input/nba_2017_twitter_players.csv\")\nnba_2017_br = nba_2017_br.merge(nba_2017_twitter_players, how = 'inner', on = 'PLAYER')\nnba_2017_br.head()",
      "execution_count": null,
      "outputs": []
    },
    {
      "metadata": {
        "_cell_guid": "63e74e6f-38e1-4bfa-b9d2-ca87d61c5dbd",
        "_uuid": "370f667b107e38e4a4d703ee3a5b478c202e3e2c"
      },
      "cell_type": "markdown",
      "source": "**Correlation heatmap**"
    },
    {
      "metadata": {
        "_cell_guid": "0b18ac26-f96b-4f3f-9a24-50de1da1d252",
        "_uuid": "f2ba26a441bdb1af775295fce3b005faf21814d0",
        "trusted": false,
        "collapsed": true
      },
      "cell_type": "code",
      "source": "plt.subplots(figsize=(20,15))\nax = plt.axes()\nax.set_title(\"NBA Player Correlation Heatmap\")\ncorr = nba_2017_br.corr()\nsns.heatmap(corr, \n            xticklabels=corr.columns.values,\n            yticklabels=corr.columns.values,cmap=\"Greens\")",
      "execution_count": null,
      "outputs": []
    },
    {
      "metadata": {
        "_cell_guid": "9ce0ed65-6821-4e61-a521-b4a982ecc02f",
        "_uuid": "af5fe202df8be8ca3d3ff3bdbed423f3fc7328a5"
      },
      "cell_type": "markdown",
      "source": "**Prepossing the data**"
    },
    {
      "metadata": {
        "_cell_guid": "bc0cc072-ed9a-4252-98a8-7b85998bb18a",
        "_uuid": "935b35255fe71928d61fe222ed9ae3cd4b08ef73",
        "trusted": false,
        "collapsed": true
      },
      "cell_type": "code",
      "source": "#Remove missing values\nnba_2017_br = nba_2017_br.dropna()\n\ncat_cols = ['PLAYER','Pos','TEAM','CONF','POSITION']\n\n# Rescale numetic columns(Expecting target column i.e. winning_rate)\nnum_cols = list(nba_2017_br.drop(cat_cols,axis = 1).columns.drop('winning_rate'))\nfor col in num_cols:\n    nba_2017_br[col + 'scaled'] = minmax_scale(nba_2017_br[col])\n    nba_2017_br = nba_2017_br.drop(col,axis = 1)\n    \n    \n#Create dummy variables\nfor col in cat_cols:\n    dummies = pd.get_dummies(nba_2017_br[col], prefix = col)\n    nba_2017_br = pd.concat([nba_2017_br,dummies], axis = 1)\n    nba_2017_br = nba_2017_br.drop(col,axis = 1)\n\nnba_2017_br.head()",
      "execution_count": null,
      "outputs": []
    },
    {
      "metadata": {
        "_cell_guid": "0475af73-6c7d-44a6-ac95-ceefa0c0025a",
        "_uuid": "2eef3baea2ff9d65ae6326f06a2bc5e6d22a5354"
      },
      "cell_type": "markdown",
      "source": "**Assign dependent and independent variables**"
    },
    {
      "metadata": {
        "_cell_guid": "49a2ff55-e57b-407c-be60-864916ad9f43",
        "collapsed": true,
        "_uuid": "fed41f22f87d36477a103e2b98a4262dd63bbd31",
        "trusted": false
      },
      "cell_type": "code",
      "source": "all_X = nba_2017_br.drop('winning_rate', axis = 1)\ny = nba_2017_br['winning_rate']",
      "execution_count": null,
      "outputs": []
    },
    {
      "metadata": {
        "_cell_guid": "be4e2a90-37ea-43f7-a080-af3ea1601469",
        "_uuid": "d3632a2a894dd5fbb9cd4a323eacb9c69e1aaf6d"
      },
      "cell_type": "markdown",
      "source": "**Apply LinearRegression Model**"
    },
    {
      "metadata": {
        "_cell_guid": "083f5887-4127-4873-87fc-f549d82f26b4",
        "_uuid": "7fb37425ada84c2b58e6b64942fb7b76bcb7860b",
        "trusted": false,
        "collapsed": true
      },
      "cell_type": "code",
      "source": "lr = LinearRegression()\nresults = lr.fit(all_X,y)\npredictions = lr.predict(nba_2017_br[all_X.columns])\nmse = mean_squared_error(predictions, nba_2017_br['winning_rate'])\nmse",
      "execution_count": null,
      "outputs": []
    },
    {
      "metadata": {
        "_cell_guid": "5825e783-cd41-47a9-a709-5a623d1963f9",
        "_uuid": "6218ea8959187881b4d6dffc895764453e1444c3",
        "trusted": false,
        "collapsed": true
      },
      "cell_type": "code",
      "source": "model = sm.OLS(y, all_X).fit()\nmodel.summary()",
      "execution_count": null,
      "outputs": []
    },
    {
      "metadata": {
        "_cell_guid": "df75fef2-863c-4bfb-b311-0bd3bee191fa",
        "collapsed": true,
        "_uuid": "c21e80a2e5081310d14cfa11f31c42feffeb3c42"
      },
      "cell_type": "markdown",
      "source": "Mean_sqaured_error is slim to none and R-squared = 1.000 prove the linear regression model is a fit in this case."
    },
    {
      "metadata": {
        "_cell_guid": "5d257714-d2ae-4d19-ab15-0bbb44c3f407",
        "collapsed": true,
        "_uuid": "cb9f719b29944c359ea6c97c3c631ed685856c4e",
        "trusted": false
      },
      "cell_type": "code",
      "source": "",
      "execution_count": null,
      "outputs": []
    }
  ],
  "metadata": {
    "kernelspec": {
      "display_name": "Python 3",
      "language": "python",
      "name": "python3"
    },
    "language_info": {
      "name": "python",
      "nbconvert_exporter": "python",
      "version": "3.6.4",
      "pygments_lexer": "ipython3",
      "mimetype": "text/x-python",
      "codemirror_mode": {
        "name": "ipython",
        "version": 3
      },
      "file_extension": ".py"
    }
  },
  "nbformat": 4,
  "nbformat_minor": 1
}